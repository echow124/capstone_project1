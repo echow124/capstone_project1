{
 "cells": [
  {
   "cell_type": "markdown",
   "metadata": {},
   "source": [
    "# Birmingham Parking Analysis\n",
    "\n",
    "## Introduction:\n",
    "\n",
    "The data set I chose to analyze was the one on Birmingham parking. I wanted to look at the parking data set because in California, we have to drive everywhere, and it would be useful to know when parking lots are at their fullest so that one could choose the best times to go shopping. \n",
    "\n",
    "In the data sets below, we will look at the questions:\n",
    "1. What time of day is parking the busiest? \n",
    "2. Is there a difference in parking behavior between weekends and weekdays?\n",
    "3. Is there a trend in parking? \n",
    "\n",
    "## Data Loading / Exploration"
   ]
  },
  {
   "cell_type": "code",
   "execution_count": 3,
   "metadata": {},
   "outputs": [
    {
     "name": "stdout",
     "output_type": "stream",
     "text": [
      "  SystemCodeNumber  Capacity  Occupancy          LastUpdated\n",
      "0      BHMBCCMKT01       577         61  2016-10-04 07:59:42\n",
      "1      BHMBCCMKT01       577         64  2016-10-04 08:25:42\n",
      "2      BHMBCCMKT01       577         80  2016-10-04 08:59:42\n",
      "3      BHMBCCMKT01       577        107  2016-10-04 09:32:46\n",
      "4      BHMBCCMKT01       577        150  2016-10-04 09:59:48\n"
     ]
    }
   ],
   "source": [
    "#When is parking the busiest?\n",
    "import pandas as pd\n",
    "import numpy as np\n",
    "import matplotlib.pyplot as plt\n",
    "%matplotlib inline\n",
    "df = pd.read_csv('dataset/dataset_Parking.csv')\n",
    "print(df.head())"
   ]
  },
  {
   "cell_type": "code",
   "execution_count": 4,
   "metadata": {},
   "outputs": [
    {
     "data": {
      "text/html": [
       "<div>\n",
       "<style scoped>\n",
       "    .dataframe tbody tr th:only-of-type {\n",
       "        vertical-align: middle;\n",
       "    }\n",
       "\n",
       "    .dataframe tbody tr th {\n",
       "        vertical-align: top;\n",
       "    }\n",
       "\n",
       "    .dataframe thead th {\n",
       "        text-align: right;\n",
       "    }\n",
       "</style>\n",
       "<table border=\"1\" class=\"dataframe\">\n",
       "  <thead>\n",
       "    <tr style=\"text-align: right;\">\n",
       "      <th></th>\n",
       "      <th>SystemCodeNumber</th>\n",
       "      <th>Capacity</th>\n",
       "      <th>Occupancy</th>\n",
       "      <th>LastUpdated</th>\n",
       "    </tr>\n",
       "  </thead>\n",
       "  <tbody>\n",
       "    <tr>\n",
       "      <th>0</th>\n",
       "      <td>BHMBCCMKT01</td>\n",
       "      <td>577</td>\n",
       "      <td>61</td>\n",
       "      <td>2016-10-04 07:59:42</td>\n",
       "    </tr>\n",
       "    <tr>\n",
       "      <th>1</th>\n",
       "      <td>BHMBCCMKT01</td>\n",
       "      <td>577</td>\n",
       "      <td>64</td>\n",
       "      <td>2016-10-04 08:25:42</td>\n",
       "    </tr>\n",
       "    <tr>\n",
       "      <th>2</th>\n",
       "      <td>BHMBCCMKT01</td>\n",
       "      <td>577</td>\n",
       "      <td>80</td>\n",
       "      <td>2016-10-04 08:59:42</td>\n",
       "    </tr>\n",
       "    <tr>\n",
       "      <th>3</th>\n",
       "      <td>BHMBCCMKT01</td>\n",
       "      <td>577</td>\n",
       "      <td>107</td>\n",
       "      <td>2016-10-04 09:32:46</td>\n",
       "    </tr>\n",
       "    <tr>\n",
       "      <th>4</th>\n",
       "      <td>BHMBCCMKT01</td>\n",
       "      <td>577</td>\n",
       "      <td>150</td>\n",
       "      <td>2016-10-04 09:59:48</td>\n",
       "    </tr>\n",
       "  </tbody>\n",
       "</table>\n",
       "</div>"
      ],
      "text/plain": [
       "  SystemCodeNumber  Capacity  Occupancy         LastUpdated\n",
       "0      BHMBCCMKT01       577         61 2016-10-04 07:59:42\n",
       "1      BHMBCCMKT01       577         64 2016-10-04 08:25:42\n",
       "2      BHMBCCMKT01       577         80 2016-10-04 08:59:42\n",
       "3      BHMBCCMKT01       577        107 2016-10-04 09:32:46\n",
       "4      BHMBCCMKT01       577        150 2016-10-04 09:59:48"
      ]
     },
     "execution_count": 4,
     "metadata": {},
     "output_type": "execute_result"
    }
   ],
   "source": [
    "df.dtypes\n",
    "df['LastUpdated'] = pd.to_datetime(df.LastUpdated)\n",
    "df.head()"
   ]
  },
  {
   "cell_type": "code",
   "execution_count": 5,
   "metadata": {},
   "outputs": [
    {
     "data": {
      "text/plain": [
       "SystemCodeNumber            object\n",
       "Capacity                     int64\n",
       "Occupancy                    int64\n",
       "LastUpdated         datetime64[ns]\n",
       "dtype: object"
      ]
     },
     "execution_count": 5,
     "metadata": {},
     "output_type": "execute_result"
    }
   ],
   "source": [
    "df.dtypes"
   ]
  },
  {
   "cell_type": "code",
   "execution_count": 6,
   "metadata": {},
   "outputs": [],
   "source": [
    "df['Hour'] = df.LastUpdated.dt.hour\n",
    "df['Day_of_the_Week'] = df.LastUpdated.dt.weekday_name"
   ]
  },
  {
   "cell_type": "code",
   "execution_count": 7,
   "metadata": {},
   "outputs": [
    {
     "data": {
      "image/png": "[encoded data removed]",
      "text/plain": [
       "<Figure size 432x288 with 1 Axes>"
      ]
     },
     "metadata": {
      "needs_background": "light"
     },
     "output_type": "display_data"
    }
   ],
   "source": [
    "#The parking fraction tells us what percentage of the parking lot is filled at a given time.\n",
    "df[\"Fraction\"]=df[\"Occupancy\"]/df[\"Capacity\"]\n",
    "\n",
    "rand1 = np.random.normal(50, 30, len(df))\n",
    "fraction1 = df['Fraction']\n",
    "\n",
    "rand1.sort()\n",
    "fraction1 = fraction1.sort_values()\n",
    "\n",
    "plt.plot(fraction1, rand1, \"o\") \n",
    "plt.show() "
   ]
  },
  {
   "cell_type": "markdown",
   "metadata": {},
   "source": [
    "The qq plot shows a non-normal distribution."
   ]
  },
  {
   "cell_type": "code",
   "execution_count": 8,
   "metadata": {},
   "outputs": [
    {
     "data": {
      "text/plain": [
       "<matplotlib.lines.Line2D at 0x12d50190>"
      ]
     },
     "execution_count": 8,
     "metadata": {},
     "output_type": "execute_result"
    },
    {
     "data": {
      "image/png": "[encoded data removed]",
      "text/plain": [
       "<Figure size 432x288 with 1 Axes>"
      ]
     },
     "metadata": {
      "needs_background": "light"
     },
     "output_type": "display_data"
    }
   ],
   "source": [
    "plt.hist(df[\"Fraction\"], bins=25)\n",
    "plt.axvline(df['Fraction'].mean(), color = 'b', linestyle='solid', linewidth=2)\n",
    "plt.axvline(df['Fraction'].mean() + df['Fraction'].std(), color='b', linestyle='dashed', linewidth=2)\n",
    "plt.axvline(df['Fraction'].mean()-df['Fraction'].std(), color='b', linestyle='dashed', linewidth=2) "
   ]
  },
  {
   "cell_type": "markdown",
   "metadata": {},
   "source": [
    "The histogram of the fraction of parking data shows a mean of 0.5 and a standard deviation of about 0.2."
   ]
  },
  {
   "cell_type": "code",
   "execution_count": 9,
   "metadata": {},
   "outputs": [
    {
     "data": {
      "text/plain": [
       "656.9555345930048"
      ]
     },
     "execution_count": 9,
     "metadata": {},
     "output_type": "execute_result"
    }
   ],
   "source": [
    "#What is the standard deviation for occupancy?\n",
    "np.std(df['Occupancy'], ddof=1)"
   ]
  },
  {
   "cell_type": "markdown",
   "metadata": {},
   "source": [
    "The standard deviation for occupancy is about 657."
   ]
  },
  {
   "cell_type": "markdown",
   "metadata": {},
   "source": [
    "What are the mean, median, variance, and standard error for occupancy?"
   ]
  },
  {
   "cell_type": "code",
   "execution_count": 10,
   "metadata": {},
   "outputs": [
    {
     "name": "stdout",
     "output_type": "stream",
     "text": [
      "642.2289106027941\n",
      "446\n",
      "431590.57443238073\n",
      "3.476149842736824\n"
     ]
    }
   ],
   "source": [
    "print (np.mean(df['Occupancy']))\n",
    "\n",
    "import statistics\n",
    "print (statistics.median(df['Occupancy']))\n",
    "print (df['Occupancy'].var())\n",
    "print (np.std(df['Occupancy'], ddof=1) / np.sqrt(len(df['Occupancy'])))"
   ]
  },
  {
   "cell_type": "markdown",
   "metadata": {},
   "source": [
    "The mean is 624, the median is 446, the variance is 431591, and the standard error is 3.47. "
   ]
  },
  {
   "cell_type": "markdown",
   "metadata": {},
   "source": [
    "## Question 1\n",
    "### What time of day is parking the busiest? "
   ]
  },
  {
   "cell_type": "code",
   "execution_count": 11,
   "metadata": {},
   "outputs": [
    {
     "name": "stdout",
     "output_type": "stream",
     "text": [
      "         Capacity   Occupancy  Fraction\n",
      "Hour                                   \n",
      "7     1337.565947  258.387290  0.209139\n",
      "8     1399.202837  321.523892  0.253722\n",
      "9     1400.197176  464.250433  0.371572\n",
      "10    1399.241055  593.454427  0.466243\n",
      "11    1397.543833  711.392615  0.546495\n",
      "12    1399.540597  777.726848  0.590473\n",
      "13    1398.028751  800.336555  0.605557\n",
      "14    1396.856781  800.555640  0.607168\n",
      "15    1399.229833  740.171487  0.561613\n",
      "16    1401.601849  658.547657  0.501741\n"
     ]
    }
   ],
   "source": [
    "result = df.groupby('Hour').mean()\n",
    "print(result)"
   ]
  },
  {
   "cell_type": "code",
   "execution_count": 12,
   "metadata": {},
   "outputs": [
    {
     "data": {
      "image/png": "[encoded data removed]",
      "text/plain": [
       "<Figure size 432x288 with 1 Axes>"
      ]
     },
     "metadata": {
      "needs_background": "light"
     },
     "output_type": "display_data"
    }
   ],
   "source": [
    "result['Occupancy'].plot()\n",
    "plt.ylabel('Occupancy')\n",
    "plt.title('Birmingham Parking')\n",
    "plt.show()"
   ]
  },
  {
   "cell_type": "code",
   "execution_count": 13,
   "metadata": {},
   "outputs": [
    {
     "data": {
      "image/png": "[encoded data removed]",
      "text/plain": [
       "<Figure size 432x288 with 1 Axes>"
      ]
     },
     "metadata": {
      "needs_background": "light"
     },
     "output_type": "display_data"
    },
    {
     "data": {
      "image/png": "[encoded data removed]",
      "text/plain": [
       "<Figure size 432x288 with 1 Axes>"
      ]
     },
     "metadata": {
      "needs_background": "light"
     },
     "output_type": "display_data"
    }
   ],
   "source": [
    "result['Capacity'].plot()\n",
    "plt.ylabel('Capacity')\n",
    "plt.title('Birmingham Parking')\n",
    "plt.show()\n",
    "\n",
    "result['Fraction'].plot()\n",
    "plt.ylabel('Fraction')\n",
    "plt.title('Birmingham Parking')\n",
    "plt.show()"
   ]
  },
  {
   "cell_type": "markdown",
   "metadata": {},
   "source": [
    "These plots show that the capacity doesn't change over time, and that the fraction of parking occupied is at its peak around 14:00.\n",
    "\n",
    "## Question 2\n",
    "### Is there a difference in parking behavior between weekends and weekdays?"
   ]
  },
  {
   "cell_type": "code",
   "execution_count": 14,
   "metadata": {},
   "outputs": [
    {
     "name": "stdout",
     "output_type": "stream",
     "text": [
      "      SystemCodeNumber  Capacity  Occupancy         LastUpdated  Hour  \\\n",
      "35716         Shopping      1920       1180 2016-12-19 16:30:35    16   \n",
      "20411     Broad Street       690        612 2016-10-17 11:04:20    11   \n",
      "20412     Broad Street       690        635 2016-10-17 11:31:18    11   \n",
      "20413     Broad Street       690        657 2016-10-17 12:04:19    12   \n",
      "20414     Broad Street       690        660 2016-10-17 12:31:21    12   \n",
      "\n",
      "      Day_of_the_Week  Fraction  \n",
      "35716          Monday  0.614583  \n",
      "20411          Monday  0.886957  \n",
      "20412          Monday  0.920290  \n",
      "20413          Monday  0.952174  \n",
      "20414          Monday  0.956522  \n"
     ]
    }
   ],
   "source": [
    "cats = ['Monday', 'Tuesday', 'Wednesday', 'Thursday', 'Friday', 'Saturday', 'Sunday']\n",
    "df['Day_of_the_Week'] = pd.Categorical(df['Day_of_the_Week'], categories=cats, ordered=True)\n",
    "df = df.sort_values('Day_of_the_Week')\n",
    "print (df.head())"
   ]
  },
  {
   "cell_type": "code",
   "execution_count": 15,
   "metadata": {},
   "outputs": [
    {
     "data": {
      "image/png": "[encoded data removed]",
      "text/plain": [
       "<Figure size 432x288 with 1 Axes>"
      ]
     },
     "metadata": {
      "needs_background": "light"
     },
     "output_type": "display_data"
    },
    {
     "name": "stdout",
     "output_type": "stream",
     "text": [
      "                    Capacity   Occupancy       Hour  Fraction\n",
      "Day_of_the_Week                                              \n",
      "Monday           1396.883333  663.399074  11.828148  0.514551\n",
      "Tuesday          1388.119026  677.983153  11.777330  0.538876\n",
      "Wednesday        1388.119026  686.064823  11.783556  0.539964\n",
      "Thursday         1387.365443  696.160144  11.743729  0.547098\n",
      "Friday           1386.282609  659.208333  11.868961  0.511671\n",
      "Saturday         1434.069231  602.700641  11.797009  0.431389\n",
      "Sunday           1406.455500  491.712217  11.709278  0.349149\n"
     ]
    }
   ],
   "source": [
    "result2 = df.groupby('Day_of_the_Week').mean()\n",
    "result2['Occupancy'].plot()\n",
    "plt.ylabel('Occupancy')\n",
    "plt.title('Birmingham Parking')\n",
    "plt.show()\n",
    "print(result2)"
   ]
  },
  {
   "cell_type": "markdown",
   "metadata": {},
   "source": [
    "When the fraction of parking values are sorted and put into a line graph, we can see that Thursdays have the highest occupancy at 696. This corresponds with the fraction value, which is the highest at 55%. Also, Sunday is the least busiest day, which has an occupancy of about 492 and a fraction of 35%."
   ]
  },
  {
   "cell_type": "code",
   "execution_count": 16,
   "metadata": {},
   "outputs": [
    {
     "name": "stdout",
     "output_type": "stream",
     "text": [
      "      SystemCodeNumber  Capacity  Occupancy         LastUpdated  Hour  \\\n",
      "22030        Bull Ring      3053       2005 2016-11-12 11:34:23    11   \n",
      "22029        Bull Ring      3053       1676 2016-11-12 11:00:27    11   \n",
      "22031        Bull Ring      3053       2206 2016-11-12 12:00:27    12   \n",
      "22034        Bull Ring      3053       2705 2016-11-12 13:27:27    13   \n",
      "3970       BHMBCCTHL01       387        338 2016-10-08 16:04:39    16   \n",
      "\n",
      "      Day_of_the_Week  Fraction  \n",
      "22030        Saturday  0.656731  \n",
      "22029        Saturday  0.548968  \n",
      "22031        Saturday  0.722568  \n",
      "22034        Saturday  0.886014  \n",
      "3970         Saturday  0.873385  \n"
     ]
    }
   ],
   "source": [
    "#Splitting the data into two groups: weekdays and weekends\n",
    "weekend = df[(df.Day_of_the_Week == 'Saturday') | (df.Day_of_the_Week == 'Sunday')]\n",
    "print (weekend.head())\n"
   ]
  },
  {
   "cell_type": "code",
   "execution_count": 17,
   "metadata": {
    "scrolled": true
   },
   "outputs": [
    {
     "name": "stdout",
     "output_type": "stream",
     "text": [
      "      SystemCodeNumber  Capacity  Occupancy         LastUpdated  Hour  \\\n",
      "35716         Shopping      1920       1180 2016-12-19 16:30:35    16   \n",
      "20411     Broad Street       690        612 2016-10-17 11:04:20    11   \n",
      "20412     Broad Street       690        635 2016-10-17 11:31:18    11   \n",
      "20413     Broad Street       690        657 2016-10-17 12:04:19    12   \n",
      "20414     Broad Street       690        660 2016-10-17 12:31:21    12   \n",
      "\n",
      "      Day_of_the_Week  Fraction  \n",
      "35716          Monday  0.614583  \n",
      "20411          Monday  0.886957  \n",
      "20412          Monday  0.920290  \n",
      "20413          Monday  0.952174  \n",
      "20414          Monday  0.956522  \n"
     ]
    }
   ],
   "source": [
    "weekday = df[(df.Day_of_the_Week == 'Monday') | (df.Day_of_the_Week == 'Tuesday')| (df.Day_of_the_Week == 'Wednesday')| (df.Day_of_the_Week == 'Thursday')| (df.Day_of_the_Week == 'Friday')]\n",
    "print (weekday.head())"
   ]
  },
  {
   "cell_type": "markdown",
   "metadata": {},
   "source": [
    "### Question 2.1\n",
    "\n",
    "I will compare the occupancy fraction of the weekend and the weekdays against normal distributions, and then I compare the two data sets to see if they are normally distributed."
   ]
  },
  {
   "cell_type": "code",
   "execution_count": 18,
   "metadata": {},
   "outputs": [
    {
     "data": {
      "text/plain": [
       "Text(0, 0.5, 'Fraction')"
      ]
     },
     "execution_count": 18,
     "metadata": {},
     "output_type": "execute_result"
    },
    {
     "data": {
      "image/png": "[encoded data removed]",
      "text/plain": [
       "<Figure size 432x288 with 1 Axes>"
      ]
     },
     "metadata": {
      "needs_background": "light"
     },
     "output_type": "display_data"
    }
   ],
   "source": [
    "norm = np.random.normal(0, 1, 9444)\n",
    "norm.sort()\n",
    "weekend_sorted = weekend['Fraction'].sort_values()\n",
    "plt.plot(norm, weekend_sorted, \"o\")\n",
    "plt.ylabel('Fraction')\n"
   ]
  },
  {
   "cell_type": "code",
   "execution_count": 19,
   "metadata": {},
   "outputs": [
    {
     "data": {
      "text/plain": [
       "Text(0, 0.5, 'Fraction')"
      ]
     },
     "execution_count": 19,
     "metadata": {},
     "output_type": "execute_result"
    },
    {
     "data": {
      "image/png": "[encoded data removed]",
      "text/plain": [
       "<Figure size 432x288 with 1 Axes>"
      ]
     },
     "metadata": {
      "needs_background": "light"
     },
     "output_type": "display_data"
    }
   ],
   "source": [
    "norm = np.random.normal(0, 1, 26273)\n",
    "norm.sort()\n",
    "weekday_sorted = weekday['Fraction'].sort_values()\n",
    "plt.plot(norm, weekday_sorted, \"o\")\n",
    "plt.ylabel('Fraction')"
   ]
  },
  {
   "cell_type": "markdown",
   "metadata": {},
   "source": [
    "The weekend and weekday qq plots show non-normal distributions."
   ]
  },
  {
   "cell_type": "code",
   "execution_count": 20,
   "metadata": {},
   "outputs": [
    {
     "data": {
      "text/plain": [
       "[<matplotlib.lines.Line2D at 0x1099ac10>]"
      ]
     },
     "execution_count": 20,
     "metadata": {},
     "output_type": "execute_result"
    },
    {
     "data": {
      "image/png": "[encoded data removed]",
      "text/plain": [
       "<Figure size 432x288 with 1 Axes>"
      ]
     },
     "metadata": {
      "needs_background": "light"
     },
     "output_type": "display_data"
    }
   ],
   "source": [
    "we_sample = weekend['Fraction'].sample(1000).sort_values()\n",
    "wd_sample = weekday['Fraction'].sample(1000).sort_values()\n",
    "plt.xlabel('Weekend')\n",
    "plt.ylabel('Weekday')\n",
    "plt.plot(we_sample, wd_sample, \"o\")"
   ]
  },
  {
   "cell_type": "markdown",
   "metadata": {},
   "source": [
    "When plotted against each other, we see that the fraction distribution for weekends is different from weekdays."
   ]
  },
  {
   "cell_type": "markdown",
   "metadata": {},
   "source": [
    "### Question 2.2: Are the weekend and weekday data statistically significantly different?"
   ]
  },
  {
   "cell_type": "code",
   "execution_count": 48,
   "metadata": {},
   "outputs": [
    {
     "name": "stdout",
     "output_type": "stream",
     "text": [
      "Ttest_indResult(statistic=-44.86426215039406, pvalue=0.0)\n"
     ]
    }
   ],
   "source": [
    "from scipy.stats import ttest_ind\n",
    "print(ttest_ind(weekend['Fraction'], weekday['Fraction'], equal_var=False))"
   ]
  },
  {
   "cell_type": "markdown",
   "metadata": {},
   "source": [
    "The t-test shows us the error of the estimate of the population mean (or the standard distribution of the errors). The difference of the two means is 44 time larger than the error in the estimate of the means. This means that we can be relatively confident in our results."
   ]
  },
  {
   "cell_type": "markdown",
   "metadata": {},
   "source": [
    "## Question 3\n",
    "### Is there a trend in parking?"
   ]
  },
  {
   "cell_type": "code",
   "execution_count": 21,
   "metadata": {},
   "outputs": [
    {
     "data": {
      "text/plain": [
       "Text(0.5, 0, 'Date')"
      ]
     },
     "execution_count": 21,
     "metadata": {},
     "output_type": "execute_result"
    },
    {
     "data": {
      "image/png": "[encoded data removed]",
      "text/plain": [
       "<Figure size 432x288 with 1 Axes>"
      ]
     },
     "metadata": {
      "needs_background": "light"
     },
     "output_type": "display_data"
    }
   ],
   "source": [
    "df['Date'] = df.LastUpdated.dt.date\n",
    "date1 = df.groupby('Date').mean()\n",
    "plt.scatter(date1.index, date1['Occupancy'])\n",
    "plt.ylabel('Occupancy')\n",
    "plt.xlabel('Date')"
   ]
  },
  {
   "cell_type": "markdown",
   "metadata": {},
   "source": [
    "In this scatter plot, we can see that the parking occupancy is increasing over time."
   ]
  },
  {
   "cell_type": "code",
   "execution_count": 22,
   "metadata": {},
   "outputs": [
    {
     "data": {
      "text/plain": [
       "Text(0.5, 0, 'Date')"
      ]
     },
     "execution_count": 22,
     "metadata": {},
     "output_type": "execute_result"
    },
    {
     "data": {
      "image/png": "[encoded data removed]",
      "text/plain": [
       "<Figure size 432x288 with 1 Axes>"
      ]
     },
     "metadata": {
      "needs_background": "light"
     },
     "output_type": "display_data"
    }
   ],
   "source": [
    "df['Date'] = df.LastUpdated.dt.date\n",
    "date1 = df.groupby('Date').mean()\n",
    "plt.scatter(date1.index, date1['Capacity'])\n",
    "plt.ylabel('Capacity')\n",
    "plt.xlabel('Date')"
   ]
  },
  {
   "cell_type": "markdown",
   "metadata": {},
   "source": [
    "When checking the original data file, it does appear that the capacity changes from time to time. I am not sure why this happens, but maybe some of the parking lot is available for use at some time and not other times."
   ]
  },
  {
   "cell_type": "code",
   "execution_count": 23,
   "metadata": {},
   "outputs": [
    {
     "data": {
      "text/plain": [
       "Text(0.5, 0, 'Date')"
      ]
     },
     "execution_count": 23,
     "metadata": {},
     "output_type": "execute_result"
    },
    {
     "data": {
      "image/png": "[encoded data removed]",
      "text/plain": [
       "<Figure size 432x288 with 1 Axes>"
      ]
     },
     "metadata": {
      "needs_background": "light"
     },
     "output_type": "display_data"
    }
   ],
   "source": [
    "df['Date'] = df.LastUpdated.dt.date\n",
    "date1 = df.groupby('Date').mean()\n",
    "plt.scatter(date1.index, date1['Fraction'])\n",
    "plt.ylabel('Fraction')\n",
    "plt.xlabel('Date')"
   ]
  },
  {
   "cell_type": "markdown",
   "metadata": {},
   "source": [
    "## Conclusion\n",
    "\n",
    "In this project, I examined a CSV file which contained data on parking and occupancy. By looking at the parking fraction, the graphs show that parking is busier during the weekdays, and parking is less busy on the weekends. In addition, the information shows that there is an upward trend for parking. For further research, I would suggest collecting data over a longer period of time to see if there is really an upward trend; perhaps for the period of one year. I would also like to find out more about why the capacity changes - is it because there are more or less parking spaces that are allowed to be used at one time or another? In order to do this, I would observe the parking lot and see why the capacity changes. "
   ]
  },
  {
   "cell_type": "code",
   "execution_count": null,
   "metadata": {},
   "outputs": [],
   "source": []
  }
 ],
 "metadata": {
  "kernelspec": {
   "display_name": "Python 3",
   "language": "python",
   "name": "python3"
  },
  "language_info": {
   "codemirror_mode": {
    "name": "ipython",
    "version": 3
   },
   "file_extension": ".py",
   "mimetype": "text/x-python",
   "name": "python",
   "nbconvert_exporter": "python",
   "pygments_lexer": "ipython3",
   "version": "3.7.2"
  }
 },
 "nbformat": 4,
 "nbformat_minor": 2
}
